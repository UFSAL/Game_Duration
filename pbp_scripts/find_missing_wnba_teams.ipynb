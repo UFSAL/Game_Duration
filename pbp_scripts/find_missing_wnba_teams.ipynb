{
 "cells": [
  {
   "cell_type": "markdown",
   "id": "6f7b4489",
   "metadata": {},
   "source": [
    "### Finding missing WNBA teams\n",
    "\n",
    "Author: Justin\n",
    "\n",
    "Date: 07/31/2025\n",
    "\n",
    "The main scraper did not account for WNBA teams that no longer exist. \n",
    "\n",
    "The play by play data of these teams could be found by first finding the team in the existing data, \n",
    "and then using the normal scraper functions to get the data.\n",
    "\n",
    "The data found includes two disbanded teams that played each other.\n",
    "\n",
    "Note: This script may have to be run multiple times to find all the data, as it doesn't use the auto-restarting functions of the main scraper and can run into rate limits or connection pool issues."
   ]
  },
  {
   "cell_type": "code",
   "execution_count": null,
   "id": "2cfa1185",
   "metadata": {},
   "outputs": [],
   "source": [
    "from season_pbp import *\n",
    "\n",
    "# The associated ids of the missing WNBA teams\n",
    "missing_team_nick_ids = {'Sting': 1611661314, 'Rockers': 1611661315, \n",
    "                         'Comets': 1611661316, 'Monarchs': 1611661318,\n",
    "                         'Sol': 1611661326, 'Fire': 1611661327}\n",
    "\n",
    "# Gets the pbp data for each team in the specified years\n",
    "years = [str(i) for i in range(1997, 2011)]\n",
    "for year in years:\n",
    "    for nick, id in missing_team_nick_ids.items():\n",
    "        get_team_season_pbp(year, team_name=nick, team_id=id, save_to_file=True)"
   ]
  }
 ],
 "metadata": {
  "kernelspec": {
   "display_name": ".venv (3.12.5)",
   "language": "python",
   "name": "python3"
  },
  "language_info": {
   "codemirror_mode": {
    "name": "ipython",
    "version": 3
   },
   "file_extension": ".py",
   "mimetype": "text/x-python",
   "name": "python",
   "nbconvert_exporter": "python",
   "pygments_lexer": "ipython3",
   "version": "3.12.5"
  }
 },
 "nbformat": 4,
 "nbformat_minor": 5
}
