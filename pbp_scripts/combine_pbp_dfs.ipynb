{
 "cells": [
  {
   "cell_type": "markdown",
   "id": "3d573870",
   "metadata": {},
   "source": [
    "### Combining Dataframes\n",
    "\n",
    "Author: Justin\n",
    "Date: 07/30/2025\n",
    "\n",
    "This notebook simply helped me combine the data from each season together to be more easily worked as I wrote\n",
    "other scripts. You don't need to run this notebook, but it is here for reference."
   ]
  },
  {
   "cell_type": "code",
   "execution_count": 11,
   "id": "93addca7",
   "metadata": {},
   "outputs": [],
   "source": [
    "import os\n",
    "import pandas as pd"
   ]
  },
  {
   "cell_type": "code",
   "execution_count": 12,
   "id": "bb6bf64a",
   "metadata": {},
   "outputs": [],
   "source": [
    "def combine_csvs_for_season(season_path, league):\n",
    "    \"\"\"Combine all CSV files in a season directory into a single DataFrame\"\"\"\n",
    "    csv_files = [f for f in os.listdir(season_path) if f.endswith('_pbp.csv') and f.startswith(league)]\n",
    "    season_df = pd.DataFrame()\n",
    "\n",
    "    # Read each team-season CSV file and append to the full season DataFrame\n",
    "    for csv_file in csv_files:\n",
    "        team_season_csv_path = os.path.join(season_path, csv_file)\n",
    "        team_season_df = pd.read_csv(team_season_csv_path)\n",
    "\n",
    "        # Only concat rows with GAME_ID that doesn't already exist in the season_df\n",
    "        if not season_df.empty:\n",
    "            team_season_df = team_season_df[~team_season_df['GAME_ID'].isin(season_df['GAME_ID'])]\n",
    "\n",
    "        season_df = pd.concat([season_df, team_season_df], ignore_index=True)\n",
    "\n",
    "    # Save the combined DataFrame to a new CSV file\n",
    "    combined_csv_path = os.path.join(season_path, f'combined_{os.path.basename(season_path)}.csv')\n",
    "    season_df.to_csv(combined_csv_path, index=False)\n",
    "    print(f\"Combined data for season: {os.path.basename(season_path)} saved to {combined_csv_path}\")\n",
    "    return season_df"
   ]
  },
  {
   "cell_type": "code",
   "execution_count": 13,
   "id": "d08d1ea4",
   "metadata": {},
   "outputs": [],
   "source": [
    "def combine_all_seasons(league_dir, league):\n",
    "    \"\"\"Combine all CSV files for each season in the league directory\"\"\"\n",
    "    season_paths = [os.path.join(league_dir, season_dir) for season_dir in os.listdir(league_dir) if os.path.isdir(os.path.join(league_dir, season_dir))]\n",
    "    for season_path in season_paths:\n",
    "        print(f\"Combining data for season: {os.path.basename(season_path)}\")\n",
    "        combine_csvs_for_season(season_path, league)"
   ]
  },
  {
   "cell_type": "code",
   "execution_count": 14,
   "id": "6eb7e17b",
   "metadata": {},
   "outputs": [
    {
     "name": "stdout",
     "output_type": "stream",
     "text": [
      "Combining data for season: 1997\n",
      "Combined data for season: 1997 saved to ../pbp_data/wnba/1997\\combined_1997.csv\n",
      "Combining data for season: 1998\n",
      "Combined data for season: 1998 saved to ../pbp_data/wnba/1998\\combined_1998.csv\n",
      "Combining data for season: 1999\n",
      "Combined data for season: 1999 saved to ../pbp_data/wnba/1999\\combined_1999.csv\n",
      "Combining data for season: 2000\n",
      "Combined data for season: 2000 saved to ../pbp_data/wnba/2000\\combined_2000.csv\n",
      "Combining data for season: 2001\n",
      "Combined data for season: 2001 saved to ../pbp_data/wnba/2001\\combined_2001.csv\n",
      "Combining data for season: 2002\n",
      "Combined data for season: 2002 saved to ../pbp_data/wnba/2002\\combined_2002.csv\n",
      "Combining data for season: 2003\n",
      "Combined data for season: 2003 saved to ../pbp_data/wnba/2003\\combined_2003.csv\n",
      "Combining data for season: 2012\n",
      "Combined data for season: 2012 saved to ../pbp_data/wnba/2012\\combined_2012.csv\n",
      "Combining data for season: 2013\n",
      "Combined data for season: 2013 saved to ../pbp_data/wnba/2013\\combined_2013.csv\n",
      "Combining data for season: 2014\n",
      "Combined data for season: 2014 saved to ../pbp_data/wnba/2014\\combined_2014.csv\n",
      "Combining data for season: 2015\n",
      "Combined data for season: 2015 saved to ../pbp_data/wnba/2015\\combined_2015.csv\n",
      "Combining data for season: 2016\n",
      "Combined data for season: 2016 saved to ../pbp_data/wnba/2016\\combined_2016.csv\n",
      "Combining data for season: 2017\n"
     ]
    },
    {
     "name": "stderr",
     "output_type": "stream",
     "text": [
      "C:\\Users\\admin\\AppData\\Local\\Temp\\ipykernel_12308\\476241697.py:9: DtypeWarning: Columns (11) have mixed types. Specify dtype option on import or set low_memory=False.\n",
      "  team_season_df = pd.read_csv(team_season_csv_path)\n"
     ]
    },
    {
     "name": "stdout",
     "output_type": "stream",
     "text": [
      "Combined data for season: 2017 saved to ../pbp_data/wnba/2017\\combined_2017.csv\n",
      "Combining data for season: 2018\n"
     ]
    },
    {
     "name": "stderr",
     "output_type": "stream",
     "text": [
      "C:\\Users\\admin\\AppData\\Local\\Temp\\ipykernel_12308\\476241697.py:9: DtypeWarning: Columns (11,28,30,31,32) have mixed types. Specify dtype option on import or set low_memory=False.\n",
      "  team_season_df = pd.read_csv(team_season_csv_path)\n",
      "C:\\Users\\admin\\AppData\\Local\\Temp\\ipykernel_12308\\476241697.py:9: DtypeWarning: Columns (11,28,30,31,32) have mixed types. Specify dtype option on import or set low_memory=False.\n",
      "  team_season_df = pd.read_csv(team_season_csv_path)\n",
      "C:\\Users\\admin\\AppData\\Local\\Temp\\ipykernel_12308\\476241697.py:9: DtypeWarning: Columns (11) have mixed types. Specify dtype option on import or set low_memory=False.\n",
      "  team_season_df = pd.read_csv(team_season_csv_path)\n"
     ]
    },
    {
     "name": "stdout",
     "output_type": "stream",
     "text": [
      "Combined data for season: 2018 saved to ../pbp_data/wnba/2018\\combined_2018.csv\n",
      "Combining data for season: 2019\n",
      "Combined data for season: 2019 saved to ../pbp_data/wnba/2019\\combined_2019.csv\n",
      "Combining data for season: 2020\n",
      "Combined data for season: 2020 saved to ../pbp_data/wnba/2020\\combined_2020.csv\n",
      "Combining data for season: 2021\n",
      "Combined data for season: 2021 saved to ../pbp_data/wnba/2021\\combined_2021.csv\n",
      "Combining data for season: 2022\n",
      "Combined data for season: 2022 saved to ../pbp_data/wnba/2022\\combined_2022.csv\n",
      "Combining data for season: 2023\n",
      "Combined data for season: 2023 saved to ../pbp_data/wnba/2023\\combined_2023.csv\n",
      "Combining data for season: 2024\n",
      "Combined data for season: 2024 saved to ../pbp_data/wnba/2024\\combined_2024.csv\n"
     ]
    }
   ],
   "source": [
    "CHOSEN_LEAGUE = 'wnba'\n",
    "PBP_PATH = f'../pbp_data/{CHOSEN_LEAGUE}/'\n",
    "\n",
    "# combine_csvs_for_season(f'{PBP_PATH}/1996-97', CHOSEN_LEAGUE) # For one season\n",
    "combine_all_seasons(PBP_PATH, CHOSEN_LEAGUE) # For all seasons"
   ]
  }
 ],
 "metadata": {
  "kernelspec": {
   "display_name": ".venv (3.12.5)",
   "language": "python",
   "name": "python3"
  },
  "language_info": {
   "codemirror_mode": {
    "name": "ipython",
    "version": 3
   },
   "file_extension": ".py",
   "mimetype": "text/x-python",
   "name": "python",
   "nbconvert_exporter": "python",
   "pygments_lexer": "ipython3",
   "version": "3.12.5"
  }
 },
 "nbformat": 4,
 "nbformat_minor": 5
}
